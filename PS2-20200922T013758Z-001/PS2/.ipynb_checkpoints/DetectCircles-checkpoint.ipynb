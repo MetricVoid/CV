{
 "cells": [
  {
   "cell_type": "code",
   "execution_count": 4,
   "metadata": {
    "colab": {},
    "colab_type": "code",
    "executionInfo": {
     "elapsed": 588,
     "status": "ok",
     "timestamp": 1600640053357,
     "user": {
      "displayName": "Fei Ding",
      "photoUrl": "https://lh3.googleusercontent.com/a-/AOh14Gi1zlJO_l7lSjgYADaSnUhsglZ0faTwTz7h2POUOQ=s64",
      "userId": "00432297234436282683"
     },
     "user_tz": 240
    },
    "id": "b1dBXa0h7EV5"
   },
   "outputs": [],
   "source": [
    "#export\n",
    "import numpy as np\n",
    "import matplotlib.pyplot as plt\n",
    "from imageio import imread,imsave\n",
    "from skimage.feature import canny\n",
    "from skimage.color import rgb2gray\n",
    "from skimage.draw import circle_perimeter\n",
    "from skimage import img_as_float\n",
    "from scipy.ndimage.filters import convolve\n",
    "from skimage import measure"
   ]
  },
  {
   "cell_type": "code",
   "execution_count": 5,
   "metadata": {
    "colab": {},
    "colab_type": "code",
    "executionInfo": {
     "elapsed": 444,
     "status": "ok",
     "timestamp": 1600640053605,
     "user": {
      "displayName": "Fei Ding",
      "photoUrl": "https://lh3.googleusercontent.com/a-/AOh14Gi1zlJO_l7lSjgYADaSnUhsglZ0faTwTz7h2POUOQ=s64",
      "userId": "00432297234436282683"
     },
     "user_tz": 240
    },
    "id": "D3UZYJId7EV8"
   },
   "outputs": [],
   "source": [
    "#export\n",
    "def detect_circles(img, radius, use_gradient=False, sigma=1.0, threshold=0.8, epsilon='auto', bin_scale=1, hough_output=False):\n",
    "    \n",
    "    # edge detection\n",
    "    img_gray = img_as_float(rgb2gray(img))\n",
    "    edges = canny(img_gray, sigma=sigma)\n",
    "    \n",
    "    #optional: calculate gradient\n",
    "    if use_gradient:\n",
    "        g_epsilon = 1e-10\n",
    "        gradient_x = convolve(img_gray, np.array([[1,-1]]), mode='wrap')\n",
    "        gradient_y = convolve(img_gray, np.array([[1],[-1]]), mode=\"wrap\")\n",
    "        gradient_x[gradient_x == 0] = g_epsilon\n",
    "        gradient_direction = np.arctan(gradient_y / gradient_x)\n",
    "    \n",
    "    # hough circle detection\n",
    "    fixed_radius = False\n",
    "    if type(radius) is not list:\n",
    "        fixed_radius = True\n",
    "        radius = [radius, radius + 1]\n",
    "    hough_shape_0 = radius[1] - radius[0]\n",
    "    hough_shape_1 = int(img.shape[0] * bin_scale)\n",
    "    hough_shape_2 = int(img.shape[1] * bin_scale)\n",
    "    hough_cube = np.zeros((hough_shape_0, hough_shape_1, hough_shape_2))\n",
    "    for rad in range(radius[0], radius[1]):\n",
    "        hough_space = np.zeros((hough_shape_1, hough_shape_2))\n",
    "        for row in range(img.shape[0]):\n",
    "            for col in range(img.shape[1]):\n",
    "                if edges[row, col] != 0:\n",
    "                    if not use_gradient:\n",
    "                        if epsilon == 'auto':\n",
    "                            theta_values = np.linspace(0, 2 * np.pi, 6 * rad)\n",
    "                        else:\n",
    "                            theta_values = np.arange(0, 2 * np.pi, epsilon)\n",
    "                    else:\n",
    "                        theta = gradient_direction[row, col]\n",
    "                        theta_values = np.array([theta, theta-np.pi])\n",
    "                    for theta in theta_values:\n",
    "                        vote_x = int(round(col + rad * np.cos(theta)) * bin_scale)\n",
    "                        vote_y = int(round(row + rad * np.sin(theta)) * bin_scale)\n",
    "                        if vote_x >= 0 and vote_x < hough_space.shape[1] and vote_y >= 0 and vote_y < hough_space.shape[0]:\n",
    "                            hough_space[vote_y, vote_x] = hough_space[vote_y, vote_x] + 1\n",
    "        hough_cube[rad - radius[0]] = hough_space\n",
    "        # print('{} done.'.format(rad))\n",
    "        \n",
    "#     plt.imshow(hough_space)\n",
    "#     plt.show()\n",
    "    if fixed_radius:\n",
    "        hough_space = hough_cube[0]\n",
    "        centers = (np.transpose(np.array(np.where(hough_space >= hough_space.max() * threshold))) / bin_scale).astype(int)\n",
    "        if not hough_output:\n",
    "            return centers\n",
    "        return centers, hough_space\n",
    "    else:\n",
    "        radius_centers = (np.transpose(np.array(np.where(hough_cube >= hough_cube.max() * threshold))) / bin_scale).astype(int)\n",
    "        radius_centers[:, 0] = radius_centers[:, 0] + radius[0]\n",
    "        if not hough_output:\n",
    "            return radius_centers\n",
    "        return radius_centers, hough_cube"
   ]
  },
  {
   "cell_type": "code",
   "execution_count": 6,
   "metadata": {
    "colab": {
     "base_uri": "https://localhost:8080/",
     "height": 375
    },
    "colab_type": "code",
    "executionInfo": {
     "elapsed": 1098,
     "status": "error",
     "timestamp": 1600640054916,
     "user": {
      "displayName": "Fei Ding",
      "photoUrl": "https://lh3.googleusercontent.com/a-/AOh14Gi1zlJO_l7lSjgYADaSnUhsglZ0faTwTz7h2POUOQ=s64",
      "userId": "00432297234436282683"
     },
     "user_tz": 240
    },
    "id": "sldwxLmw7EV-",
    "outputId": "d7cc9d18-7f01-4f21-b7ca-bda1e9ddb341",
    "scrolled": true
   },
   "outputs": [
    {
     "ename": "FileNotFoundError",
     "evalue": "ignored",
     "output_type": "error",
     "traceback": [
      "\u001b[0;31m---------------------------------------------------------------------------\u001b[0m",
      "\u001b[0;31mFileNotFoundError\u001b[0m                         Traceback (most recent call last)",
      "\u001b[0;32m<ipython-input-6-9c63ba0d89a4>\u001b[0m in \u001b[0;36m<module>\u001b[0;34m()\u001b[0m\n\u001b[1;32m     11\u001b[0m     ]\n\u001b[1;32m     12\u001b[0m \u001b[0;34m\u001b[0m\u001b[0m\n\u001b[0;32m---> 13\u001b[0;31m     \u001b[0megg_img\u001b[0m \u001b[0;34m=\u001b[0m \u001b[0mnp\u001b[0m\u001b[0;34m.\u001b[0m\u001b[0marray\u001b[0m\u001b[0;34m(\u001b[0m\u001b[0mimread\u001b[0m\u001b[0;34m(\u001b[0m\u001b[0;34m'./egg.jpg'\u001b[0m\u001b[0;34m)\u001b[0m\u001b[0;34m)\u001b[0m\u001b[0;34m\u001b[0m\u001b[0;34m\u001b[0m\u001b[0m\n\u001b[0m\u001b[1;32m     14\u001b[0m     \u001b[0mjupiter_img\u001b[0m \u001b[0;34m=\u001b[0m \u001b[0mnp\u001b[0m\u001b[0;34m.\u001b[0m\u001b[0marray\u001b[0m\u001b[0;34m(\u001b[0m\u001b[0mimread\u001b[0m\u001b[0;34m(\u001b[0m\u001b[0;34m'./jupiter.jpg'\u001b[0m\u001b[0;34m)\u001b[0m\u001b[0;34m)\u001b[0m\u001b[0;34m\u001b[0m\u001b[0;34m\u001b[0m\u001b[0m\n\u001b[1;32m     15\u001b[0m \u001b[0;34m\u001b[0m\u001b[0m\n",
      "\u001b[0;32m/usr/local/lib/python3.6/dist-packages/imageio/core/functions.py\u001b[0m in \u001b[0;36mimread\u001b[0;34m(uri, format, **kwargs)\u001b[0m\n\u001b[1;32m    219\u001b[0m \u001b[0;34m\u001b[0m\u001b[0m\n\u001b[1;32m    220\u001b[0m     \u001b[0;31m# Get reader and read first\u001b[0m\u001b[0;34m\u001b[0m\u001b[0;34m\u001b[0m\u001b[0;34m\u001b[0m\u001b[0m\n\u001b[0;32m--> 221\u001b[0;31m     \u001b[0mreader\u001b[0m \u001b[0;34m=\u001b[0m \u001b[0mread\u001b[0m\u001b[0;34m(\u001b[0m\u001b[0muri\u001b[0m\u001b[0;34m,\u001b[0m \u001b[0mformat\u001b[0m\u001b[0;34m,\u001b[0m \u001b[0;34m\"i\"\u001b[0m\u001b[0;34m,\u001b[0m \u001b[0;34m**\u001b[0m\u001b[0mkwargs\u001b[0m\u001b[0;34m)\u001b[0m\u001b[0;34m\u001b[0m\u001b[0;34m\u001b[0m\u001b[0m\n\u001b[0m\u001b[1;32m    222\u001b[0m     \u001b[0;32mwith\u001b[0m \u001b[0mreader\u001b[0m\u001b[0;34m:\u001b[0m\u001b[0;34m\u001b[0m\u001b[0;34m\u001b[0m\u001b[0m\n\u001b[1;32m    223\u001b[0m         \u001b[0;32mreturn\u001b[0m \u001b[0mreader\u001b[0m\u001b[0;34m.\u001b[0m\u001b[0mget_data\u001b[0m\u001b[0;34m(\u001b[0m\u001b[0;36m0\u001b[0m\u001b[0;34m)\u001b[0m\u001b[0;34m\u001b[0m\u001b[0;34m\u001b[0m\u001b[0m\n",
      "\u001b[0;32m/usr/local/lib/python3.6/dist-packages/imageio/core/functions.py\u001b[0m in \u001b[0;36mget_reader\u001b[0;34m(uri, format, mode, **kwargs)\u001b[0m\n\u001b[1;32m    128\u001b[0m \u001b[0;34m\u001b[0m\u001b[0m\n\u001b[1;32m    129\u001b[0m     \u001b[0;31m# Create request object\u001b[0m\u001b[0;34m\u001b[0m\u001b[0;34m\u001b[0m\u001b[0;34m\u001b[0m\u001b[0m\n\u001b[0;32m--> 130\u001b[0;31m     \u001b[0mrequest\u001b[0m \u001b[0;34m=\u001b[0m \u001b[0mRequest\u001b[0m\u001b[0;34m(\u001b[0m\u001b[0muri\u001b[0m\u001b[0;34m,\u001b[0m \u001b[0;34m\"r\"\u001b[0m \u001b[0;34m+\u001b[0m \u001b[0mmode\u001b[0m\u001b[0;34m,\u001b[0m \u001b[0;34m**\u001b[0m\u001b[0mkwargs\u001b[0m\u001b[0;34m)\u001b[0m\u001b[0;34m\u001b[0m\u001b[0;34m\u001b[0m\u001b[0m\n\u001b[0m\u001b[1;32m    131\u001b[0m \u001b[0;34m\u001b[0m\u001b[0m\n\u001b[1;32m    132\u001b[0m     \u001b[0;31m# Get format\u001b[0m\u001b[0;34m\u001b[0m\u001b[0;34m\u001b[0m\u001b[0;34m\u001b[0m\u001b[0m\n",
      "\u001b[0;32m/usr/local/lib/python3.6/dist-packages/imageio/core/request.py\u001b[0m in \u001b[0;36m__init__\u001b[0;34m(self, uri, mode, **kwargs)\u001b[0m\n\u001b[1;32m    123\u001b[0m \u001b[0;34m\u001b[0m\u001b[0m\n\u001b[1;32m    124\u001b[0m         \u001b[0;31m# Parse what was given\u001b[0m\u001b[0;34m\u001b[0m\u001b[0;34m\u001b[0m\u001b[0;34m\u001b[0m\u001b[0m\n\u001b[0;32m--> 125\u001b[0;31m         \u001b[0mself\u001b[0m\u001b[0;34m.\u001b[0m\u001b[0m_parse_uri\u001b[0m\u001b[0;34m(\u001b[0m\u001b[0muri\u001b[0m\u001b[0;34m)\u001b[0m\u001b[0;34m\u001b[0m\u001b[0;34m\u001b[0m\u001b[0m\n\u001b[0m\u001b[1;32m    126\u001b[0m \u001b[0;34m\u001b[0m\u001b[0m\n\u001b[1;32m    127\u001b[0m         \u001b[0;31m# Set extension\u001b[0m\u001b[0;34m\u001b[0m\u001b[0;34m\u001b[0m\u001b[0;34m\u001b[0m\u001b[0m\n",
      "\u001b[0;32m/usr/local/lib/python3.6/dist-packages/imageio/core/request.py\u001b[0m in \u001b[0;36m_parse_uri\u001b[0;34m(self, uri)\u001b[0m\n\u001b[1;32m    271\u001b[0m                 \u001b[0;31m# Reading: check that the file exists (but is allowed a dir)\u001b[0m\u001b[0;34m\u001b[0m\u001b[0;34m\u001b[0m\u001b[0;34m\u001b[0m\u001b[0m\n\u001b[1;32m    272\u001b[0m                 \u001b[0;32mif\u001b[0m \u001b[0;32mnot\u001b[0m \u001b[0mos\u001b[0m\u001b[0;34m.\u001b[0m\u001b[0mpath\u001b[0m\u001b[0;34m.\u001b[0m\u001b[0mexists\u001b[0m\u001b[0;34m(\u001b[0m\u001b[0mfn\u001b[0m\u001b[0;34m)\u001b[0m\u001b[0;34m:\u001b[0m\u001b[0;34m\u001b[0m\u001b[0;34m\u001b[0m\u001b[0m\n\u001b[0;32m--> 273\u001b[0;31m                     \u001b[0;32mraise\u001b[0m \u001b[0mFileNotFoundError\u001b[0m\u001b[0;34m(\u001b[0m\u001b[0;34m\"No such file: '%s'\"\u001b[0m \u001b[0;34m%\u001b[0m \u001b[0mfn\u001b[0m\u001b[0;34m)\u001b[0m\u001b[0;34m\u001b[0m\u001b[0;34m\u001b[0m\u001b[0m\n\u001b[0m\u001b[1;32m    274\u001b[0m             \u001b[0;32melse\u001b[0m\u001b[0;34m:\u001b[0m\u001b[0;34m\u001b[0m\u001b[0;34m\u001b[0m\u001b[0m\n\u001b[1;32m    275\u001b[0m                 \u001b[0;31m# Writing: check that the directory to write to does exist\u001b[0m\u001b[0;34m\u001b[0m\u001b[0;34m\u001b[0m\u001b[0;34m\u001b[0m\u001b[0m\n",
      "\u001b[0;31mFileNotFoundError\u001b[0m: No such file: '/content/egg.jpg'"
     ]
    }
   ],
   "source": [
    "#export\n",
    "if __name__ == '__main__':\n",
    "    param_lists = [\n",
    "        ['jupiter', 110, 6, 0.99, False, 1, .1],\n",
    "        ['jupiter', 110, 6, 0.80, True, 1, .1],\n",
    "        ['egg', 5, 3, 0.60, False, 1, 'auto'],           # use this for count\n",
    "        ['egg', 5, 3, 0.70, True, 1, 'auto'],\n",
    "        ['egg', 5, 3, 0.60, False, 0.5, 'auto'],\n",
    "        ['egg', [2, 12], 2, 0.65, False, 1, .05],\n",
    "        ['jupiter', [3, 110], 6, 0.80, True, 1.0, 0.1]\n",
    "    ]\n",
    "    \n",
    "    egg_img = np.array(imread('./egg.jpg'))\n",
    "    jupiter_img = np.array(imread('./jupiter.jpg'))\n",
    "\n",
    "    # toggle for differnet image parameters\n",
    "    param_i = int(input('option 0 - {}:'.format(len(param_lists) - 1)))\n",
    "\n",
    "    img_name = param_lists[param_i][0]\n",
    "    radius = param_lists[param_i][1]\n",
    "    sigma = param_lists[param_i][2]\n",
    "    threshold = param_lists[param_i][3]\n",
    "    use_gradient = param_lists[param_i][4]\n",
    "    bin_scale = param_lists[param_i][5]\n",
    "    epsilon = param_lists[param_i][6]\n",
    "\n",
    "    # image file name\n",
    "    save_name_circled = '{}_circled{}_grad{}{}.jpg'.format(\n",
    "        img_name,\n",
    "        '_no' if not use_gradient else '',\n",
    "        '_scale' if bin_scale != 1 else '',\n",
    "        '_rad' if type(radius) is list else '' )\n",
    "    save_name_hough = '{}_hough{}_grad{}.jpg'.format(\n",
    "        img_name,\n",
    "        '_no' if not use_gradient else '',\n",
    "        '_scale' if bin_scale != 1 else '')\n",
    "    if img_name == 'egg':\n",
    "        img = egg_img.copy()\n",
    "    elif img_name == 'jupiter':\n",
    "        img = jupiter_img.copy()\n",
    "\n",
    "    # marker color\n",
    "    draw_color = np.array([255, 255, 0])\n",
    "\n",
    "    centers, hough_space = detect_circles(img, radius, use_gradient=use_gradient, threshold=threshold, sigma=sigma, bin_scale=bin_scale, epsilon=epsilon, hough_output=True)\n",
    "    if type(radius) is list:\n",
    "        hough_img = hough_space.astype(int).sum(axis=0)\n",
    "        scale_factor = 255 / hough_img.max()\n",
    "        hough_img = (scale_factor * hough_img).astype(np.uint8)\n",
    "    else:\n",
    "        scale_factor = 255 / hough_space.max()\n",
    "        hough_img = (scale_factor * hough_space).astype(np.uint8)\n",
    "\n",
    "    circled_img = img.copy()\n",
    "    for center in centers:\n",
    "        if type(radius) is not list:\n",
    "            circle = circle_perimeter(center[0], center[1], radius=radius, shape=img.shape)\n",
    "        else:\n",
    "            circle = circle_perimeter(center[1], center[2], radius=center[0], shape=img.shape)\n",
    "        circled_img[circle] = draw_color\n",
    "    imsave(save_name_circled, circled_img)\n",
    "    if type(radius) is not list:\n",
    "        imsave(save_name_hough, hough_img)\n",
    "\n",
    "    plt.rcParams['figure.figsize'] = [16, 10]\n",
    "    fig, axs = plt.subplots(1, 2)\n",
    "    axs[0].imshow(circled_img)\n",
    "    axs[1].imshow(hough_img, cmap='gray')\n",
    "    axs[0].title.set_text('Circles Marked')\n",
    "    axs[1].title.set_text('Accumulator Array')\n",
    "    plt.show()\n",
    "    \n",
    "    if type(radius) is list:\n",
    "        hough_img = hough_space\n",
    "    hough_img_threshold = hough_img.copy()\n",
    "    hough_img_threshold[hough_img < hough_img.max() * threshold] = 0\n",
    "    hough_img_threshold[hough_img_threshold > 0] = 1\n",
    "    hough_img_threshold = hough_img_threshold.astype(bool)\n",
    "\n",
    "    labels = measure.label(hough_img_threshold, background=0)\n",
    "    count = labels.max()\n",
    "    # print(labels.shape)\n",
    "    centers = []\n",
    "    for i in range(1, count + 1):\n",
    "        centers.append((np.mean(np.array(np.where(labels == i)), axis=1) / bin_scale).astype(int))\n",
    "    centers = np.array(centers)\n",
    "\n",
    "    circled_img = img.copy()\n",
    "    for center in centers:\n",
    "        # print(center)\n",
    "        if type(radius) is list:\n",
    "            circle = circle_perimeter(center[1], center[2], radius=center[0] + radius[0], shape=img.shape)\n",
    "        else:\n",
    "            circle = circle_perimeter(center[0], center[1], radius=radius, shape=img.shape)\n",
    "        circled_img[circle] = draw_color\n",
    "    imsave('reduced_' + save_name_circled, circled_img)\n",
    "\n",
    "    print('Circle Count:', count)\n",
    "    plt.rcParams['figure.figsize'] = [16, 10]\n",
    "    fig, axs = plt.subplots(1, 2)\n",
    "    axs[0].imshow(circled_img)\n",
    "    if type(radius) is not list:\n",
    "        axs[1].imshow(hough_img_threshold, cmap='gray')\n",
    "    else:\n",
    "        axs[1].imshow(circled_img)\n",
    "    axs[0].title.set_text('Better Circles Marked')\n",
    "    axs[1].title.set_text('Accumulator Array After Thresholding or N/A')\n",
    "    plt.show()\n",
    "    \n",
    "    "
   ]
  },
  {
   "cell_type": "code",
   "execution_count": null,
   "metadata": {
    "colab": {},
    "colab_type": "code",
    "id": "kn6_hp9u7EWB",
    "outputId": "a9302c89-fd41-4e9e-f5aa-97d9d76fc5e3"
   },
   "outputs": [
    {
     "name": "stdout",
     "output_type": "stream",
     "text": [
      "Converted DetectCircles.ipynb to submissionDetectCircles.py\r\n"
     ]
    }
   ],
   "source": [
    "!python notebook2scriptCopy.py"
   ]
  }
 ],
 "metadata": {
  "colab": {
   "name": "DetectCircles.ipynb",
   "provenance": []
  },
  "kernelspec": {
   "display_name": "Python 3",
   "language": "python",
   "name": "python3"
  },
  "language_info": {
   "codemirror_mode": {
    "name": "ipython",
    "version": 3
   },
   "file_extension": ".py",
   "mimetype": "text/x-python",
   "name": "python",
   "nbconvert_exporter": "python",
   "pygments_lexer": "ipython3",
   "version": "3.8.1"
  }
 },
 "nbformat": 4,
 "nbformat_minor": 1
}
