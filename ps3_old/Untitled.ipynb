{
 "cells": [
  {
   "cell_type": "code",
   "execution_count": 5,
   "metadata": {},
   "outputs": [],
   "source": [
    "import os\n",
    "import imageio\n",
    "import argparse\n",
    "import numpy as np\n",
    "\n",
    "#############################################################################\n",
    "# TODO: Add additional imports\n",
    "#############################################################################\n",
    "import matplotlib.pyplot as plt\n",
    "import cv2\n",
    "from skimage.color import rgb2gray\n",
    "#############################################################################\n",
    "#                             END OF YOUR CODE                              #\n",
    "#############################################################################\n"
   ]
  },
  {
   "cell_type": "code",
   "execution_count": null,
   "metadata": {},
   "outputs": [],
   "source": [
    "def get_parser():\n",
    "    parser = argparse.ArgumentParser(description=\"Points Selection\")\n",
    "    parser.add_argument(\"image1\", type=str, help=\"path to image 1\")\n",
    "    parser.add_argument(\"image2\", type=str, help=\"path to image 2\")\n",
    "    return parser\n",
    "\n",
    "\n",
    "def pick_points(img1, img2):\n",
    "    \"\"\"\n",
    "    Functionality to get manually identified corresponding points from two views.\n",
    "\n",
    "    Inputs:\n",
    "    - img1: The first image to select points from\n",
    "    - img2: The second image to select points from\n",
    "\n",
    "    Output:\n",
    "    - coords1: An ndarray of shape (N, 2) with points from image 1\n",
    "    - coords2: An ndarray of shape (N, 2) with points from image 2\n",
    "    \"\"\"\n",
    "    ############################################################################\n",
    "    # TODO: Implement pick_points\n",
    "    ############################################################################\n",
    "#     image1 = plt.ginput(img1)\n",
    "    plt.imshow(img1)\n",
    "    m = plt.ginput(-1)\n",
    "    print(np.shape(m,))\n",
    "    return null\n",
    "\n",
    "    ############################################################################\n",
    "    #                             END OF YOUR CODE\n",
    "    ############################################################################\n",
    "\n",
    "\n",
    "img1 = np.asarray(imageio.imread(\"wdc1.jpg\"))\n",
    "img2 = np.asarray(imageio.imread(\"wdc2.jpg\"))\n",
    "\n",
    "coords1, coords2 = pick_points(img1, img2)\n",
    "\n",
    "assert len(coords1) == len(coords2), \"The number of coordinates does not match\"\n",
    "\n",
    "filename1 = os.path.splitext(args.image1)[0] + \".npy\"\n",
    "filename2 = os.path.splitext(args.image2)[0] + \".npy\"\n",
    "\n",
    "assert not os.path.exists(filename1), f\"Output file {filename1} already exists\"\n",
    "assert not os.path.exists(filename2), f\"Output file {filename2} already exists\"\n",
    "\n",
    "np.save(filename1, coords1)\n",
    "np.save(filename2, coords2)\n"
   ]
  },
  {
   "cell_type": "code",
   "execution_count": null,
   "metadata": {},
   "outputs": [],
   "source": []
  },
  {
   "cell_type": "code",
   "execution_count": null,
   "metadata": {},
   "outputs": [],
   "source": []
  }
 ],
 "metadata": {
  "kernelspec": {
   "display_name": "Python 3",
   "language": "python",
   "name": "python3"
  },
  "language_info": {
   "codemirror_mode": {
    "name": "ipython",
    "version": 3
   },
   "file_extension": ".py",
   "mimetype": "text/x-python",
   "name": "python",
   "nbconvert_exporter": "python",
   "pygments_lexer": "ipython3",
   "version": "3.8.1"
  }
 },
 "nbformat": 4,
 "nbformat_minor": 4
}
